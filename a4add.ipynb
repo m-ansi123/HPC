{
  "cells": [
    {
      "cell_type": "code",
      "execution_count": null,
      "metadata": {
        "colab": {
          "base_uri": "https://localhost:8080/"
        },
        "id": "0_MznfcKK0GO",
        "outputId": "4d20a7fa-317f-4ddc-ed64-6949ad18871e"
      },
      "outputs": [
        {
          "name": "stdout",
          "output_type": "stream",
          "text": [
            "Writing add.cu\n"
          ]
        }
      ],
      "source": [
        " %%writefile add.cu\n",
        "\n",
        "#include <iostream>\n",
        "#include <cuda_runtime.h>  // Provides necessary functions and macros to work with CUDA.\n",
        "\n",
        "using namespace std;\n",
        "\n",
        "__global__ void addVectors(int* A, int* B, int* C, int n) \n",
        "{\n",
        "    int i = blockIdx.x * blockDim.x + threadIdx.x; \n",
        "    if (i < n) \n",
        "    {\n",
        "        C[i] = A[i] + B[i]; \n",
        "    }\n",
        "}\n",
        "\n",
        "int main()\n",
        "{\n",
        "    int n = 1000000; \n",
        "    int* A, * B, * C; .\n",
        "    int size = n * sizeof(int);\n",
        "\n",
        "    cudaMallocHost(&A, size); \n",
        "    cudaMallocHost(&B, size);\n",
        "    cudaMallocHost(&C, size);\n",
        "\n",
        "    for (int i = 0; i < n; i++)\n",
        "    {\n",
        "        A[i] = i; \n",
        "        B[i] = i * 2;  \n",
        "    \n",
        "    int* dev_A, * dev_B, * dev_C;\n",
        "    cudaMalloc(&dev_A, size); \n",
        "    cudaMalloc(&dev_B, size); \n",
        "    cudaMalloc(&dev_C, size); \n",
        "\n",
        "    cudaMemcpy(dev_A, A, size, cudaMemcpyHostToDevice);\n",
        "    cudaMemcpy(dev_B, B, size, cudaMemcpyHostToDevice);\n",
        "\n",
        "    int blockSize = 256;\n",
        "    int numBlocks = (n + blockSize - 1) / blockSize;\n",
        "    addVectors<<<numBlocks, blockSize>>>(dev_A, dev_B, dev_C, n);\n",
        "\n",
        "    cudaMemcpy(C, dev_C, size, cudaMemcpyDeviceToHost);\n",
        "\n",
        "    for (int i = 0; i < 10; i++)\n",
        "    {\n",
        "        cout << C[i] << \" \"; \n",
        "    }\n",
        "    cout << endl;\n",
        "\n",
        "    cudaFree(dev_A); \n",
        "    cudaFree(dev_B);\n",
        "    cudaFree(dev_C);\n",
        "    cudaFreeHost(A); \n",
        "    cudaFreeHost(B);\n",
        "    cudaFreeHost(C);\n",
        "\n",
        "    return 0;\n",
        "}\n"
      ]
    },
    {
      "cell_type": "code",
      "execution_count": null,
      "metadata": {
        "id": "4pz10Ie6Lo0n"
      },
      "outputs": [],
      "source": [
        "!rm -rf /usr/local/cuda           # Removes any previous CUDA installations (only needed in certain environments).\n",
        "!ln -s  /usr/local/cuda-12.5 /usr/local/cuda        # Links to CUDA 12.2.\n",
        "!nvcc -arch=sm_75 add.cu -o add         # Compiles the CUDA program (nvcc is the CUDA compiler)."
      ]
    },
    {
      "cell_type": "code",
      "execution_count": null,
      "metadata": {
        "colab": {
          "base_uri": "https://localhost:8080/"
        },
        "id": "lXexO0J1MHov",
        "outputId": "1e2d852b-0123-4dca-e66e-440f4da0dfd1"
      },
      "outputs": [
        {
          "name": "stdout",
          "output_type": "stream",
          "text": [
            "0 3 6 9 12 15 18 21 24 27 \n"
          ]
        }
      ],
      "source": [
        "!./add                             // Each element of C is the sum of the corresponding elements of A and B:C[0] = 0 + 0 = 0    C[1] = 1 + 2 = 3   C[2] = 2 + 4 = 6    C[3] = 3 + 6 = 9    C[4] = 4 + 8 = 12    ..."
      ]
    },
    {
      "cell_type": "code",
      "execution_count": null,
      "metadata": {
        "id": "mjoWbDz8HSAM"
      },
      "outputs": [],
      "source": []
    }
  ],
  "metadata": {
    "accelerator": "GPU",
    "colab": {
      "gpuType": "T4",
      "provenance": []
    },
    "kernelspec": {
      "display_name": "Python 3",
      "name": "python3"
    },
    "language_info": {
      "name": "python"
    }
  },
  "nbformat": 4,
  "nbformat_minor": 0
}
